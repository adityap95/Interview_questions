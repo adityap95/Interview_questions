{
 "cells": [
  {
   "cell_type": "markdown",
   "id": "e2f9d8a7",
   "metadata": {},
   "source": [
    "<h1>Interview Questions</h1>"
   ]
  },
  {
   "cell_type": "markdown",
   "id": "09bba4fa",
   "metadata": {},
   "source": [
    "1. What is Scope in Python?"
   ]
  },
  {
   "cell_type": "markdown",
   "id": "782ecbc8",
   "metadata": {},
   "source": [
    "Every object in Python functions within a scope. A scope is a block of code where an object in Python remains relevant. Namespaces uniquely identify all the objects inside a program. However, these namespaces also have a scope defined for them where you could use their objects without any prefix. A few examples of scope created during code execution in Python are as follows:\n",
    "\n",
    "A local scope refers to the local objects available in the current function.\n",
    "A global scope refers to the objects available throught the code execution since their inception.\n",
    "A module-level scope refers to the global objects of the current module accessible in the program.\n",
    "An outermost scope refers to all the built-in names callable in the program. The objects in this scope are searched last to find the name referenced.\n",
    "Note: Local scope objects can be synced with global scope objects using keywords such as global."
   ]
  },
  {
   "cell_type": "markdown",
   "id": "a81f8e1d",
   "metadata": {},
   "source": [
    "2.What is Scope Resolution in Python?"
   ]
  },
  {
   "cell_type": "markdown",
   "id": "9c0e39a9",
   "metadata": {},
   "source": [
    "Sometimes objects within the same scope have the same name but function differently. In such cases, scope resolution comes into play in Python automatically. A few examples of such behaviour are:\n",
    "\n",
    "Python modules namely 'math' and 'cmath' have a lot of functions that are common to both of them - log10(), acos(), exp() etc. To resolve this amiguity, it is necessary to prefix them with their respective module, like math.exp() and cmath.exp().\n",
    "Consider the code below, an object temp has been initialized to 10 globally and then to 20 on function call. However, the function call didn't change the value of the temp globally. Here, we can observe that Python draws a clear line between global and local variables treating both their namespaces as separate identities.\n"
   ]
  },
  {
   "cell_type": "markdown",
   "id": "d8831130",
   "metadata": {},
   "source": [
    "3.What are lists and tuples? What is the key difference between the two?"
   ]
  },
  {
   "cell_type": "markdown",
   "id": "0d2ed29c",
   "metadata": {},
   "source": [
    "Lists and Tuples are both sequence data types that can store a collection of objects in Python. The objects stored in both sequences can have different data types. Lists are represented with square brackets ['sara', 6, 0.19], while tuples are represented with parantheses ('ansh', 5, 0.97).\n",
    "But what is the real difference between the two? The key difference between the two is that while lists are mutable, tuples on the other hand are immutable objects. This means that lists can be modified, appended or sliced on-the-go but tuples remain constant and cannot be modified in any manner. You can run the following example on Python IDLE to confirm the difference:"
   ]
  },
  {
   "cell_type": "markdown",
   "id": "b30b7c45",
   "metadata": {},
   "source": [
    "4. What are Dict and List comprehensions?"
   ]
  },
  {
   "cell_type": "markdown",
   "id": "f1ef1357",
   "metadata": {},
   "source": [
    "Python comprehensions, like decorators, are syntactic sugar constructs that help build altered and filtered lists, dictionaries or sets from a given list, dictionary or set. Using comprehensions, saves a lot of time and code that might be considerably more verbose (containing more lines of code). Let's check out some examples, where comprehensions can be truly beneficial:"
   ]
  },
  {
   "cell_type": "markdown",
   "id": "39ccf86f",
   "metadata": {},
   "source": [
    "5 .What are the common built-in data types in Python?"
   ]
  },
  {
   "cell_type": "markdown",
   "id": "ae6bd236",
   "metadata": {},
   "source": [
    "There are several built-in data types in Python. Although, Python doesn't require data types to be defined explicitly during variable declarations but type errors are likely to occur if the knowledge of data types and their compatibility with each other are neglected. Python provides type() and isinstance() functions to check the type of these variables. These data types can be grouped into the following catetgories-"
   ]
  },
  {
   "cell_type": "markdown",
   "id": "09b96af8",
   "metadata": {},
   "source": [
    "\n",
    "Numeric \n",
    " \n",
    "Sequence Type \n",
    " \n",
    "Boolean \n",
    " \n",
    "Set \n",
    " \n",
    "Dictionary "
   ]
  },
  {
   "cell_type": "markdown",
   "id": "9d4aeeac",
   "metadata": {},
   "source": [
    "6.  How do you copy an object in Python?"
   ]
  },
  {
   "cell_type": "markdown",
   "id": "229c0696",
   "metadata": {},
   "source": [
    "In Python, the assignment statement (= operator) does not copy objects. Instead, it creates a binding between the existing object and the target variable name. To create copies of an object in Python, we need to use the copy module. Moreover, there are two ways of creating copies for the given object using the copy module -\n",
    "\n",
    "Shallow Copy is a bit-wise copy of an object. The copied object created has an exact copy of the values in the original object. If either of the values are references to other objects, just the reference addresses for the same are copied.\n",
    "Deep Copy copies all values recursively from source to target object, i.e. it even duplicates the objects referenced by the source object."
   ]
  },
  {
   "cell_type": "markdown",
   "id": "ae9005c2",
   "metadata": {},
   "source": [
    "7 .What are global, protected and private attributes in Python?"
   ]
  },
  {
   "cell_type": "markdown",
   "id": "8d1379cf",
   "metadata": {},
   "source": [
    "Global variables are public variables that are defined in the global scope. To use the variable in the global scope inside a function, we use the global keyword.\n",
    "Protected attributes are attributes defined with a underscore prefixed to their identifier eg. _sara. They can still be accessed and modified from outside the class they are defined in but a responsible developer should refrain from doing so.\n",
    "Private attributes are attributes with double underscore prefixed to their identifier eg. __ansh. They cannot be accessed or modified from the outside directly and will result in an AttributeError if such an attempt is made."
   ]
  },
  {
   "cell_type": "markdown",
   "id": "bd7041d6",
   "metadata": {},
   "source": [
    "8. What are Python Modules?"
   ]
  },
  {
   "cell_type": "markdown",
   "id": "149c4824",
   "metadata": {},
   "source": [
    "Files containing Python codes are referred to as Python Modules.This code can either be classes,functions or variables and saves the programmer time by providing the predefined functionalities when needed.It is a file with .py extension containing an executable code.\n",
    "\n",
    "Commonly used built modules are listed below:\n",
    "<UL>\n",
    "<li>os\n",
    "<li>sys\n",
    "<li>data time\n",
    "<li>math\n",
    "<li>random\n",
    "<li>JSON\n",
    "</UL>"
   ]
  },
  {
   "cell_type": "markdown",
   "id": "8be58d40",
   "metadata": {},
   "source": [
    "9. What are python namespaces?"
   ]
  },
  {
   "cell_type": "markdown",
   "id": "90131fd3",
   "metadata": {},
   "source": [
    "A Python namespace ensures that object names in a program are unique and can be used without any conflict. Python implements these namespaces as dictionaries with ‘name as key’ mapped to its respective ‘object as value’.\n",
    "\n",
    "Let’s explore some examples of namespaces:\n",
    "\n",
    "Local Namespace consists of local names inside a function. It is temporarily created for a function call and gets cleared once the function returns.\n",
    "Global Namespace consists of names from various imported modules/packages that are being used in the ongoing project. It is created once the package is imported into the script and survives till the execution of the script.\n",
    "Built-in Namespace consists of built-in functions of core Python and dedicated built-in names for various types of exceptions."
   ]
  },
  {
   "cell_type": "markdown",
   "id": "bdce5eb7",
   "metadata": {},
   "source": [
    "10. What does [::-1] do?"
   ]
  },
  {
   "cell_type": "markdown",
   "id": "017a82d4",
   "metadata": {},
   "source": [
    "[::-1] ,this is an example of slice notation and helps to reverse the sequence with the help of indexing.\n",
    "\n",
    "[Start,stop,step count]"
   ]
  },
  {
   "cell_type": "markdown",
   "id": "6b040920",
   "metadata": {},
   "source": [
    "\n",
    "\n",
    "\n",
    "11. What do you mean by Python literals?\n",
    "Literals refer to the data which will be provided to a given in a variable or constant.\n",
    "\n",
    "Literals supported by python are listed below:\n",
    "\n",
    "String Literals\n",
    "\n",
    "These literals are formed by enclosing text in the single or double quotes.\n",
    "\n",
    "For Example:\n",
    "\n",
    "“Intellipaat”\n",
    "\n",
    "‘45879’\n",
    "\n",
    "Numeric Literals\n",
    "\n",
    "Python numeric literals support three types of literals\n",
    "\n",
    "Integer:I=10\n",
    "\n",
    "Float: i=5.2\n",
    "\n",
    "Complex:1.73j\n",
    "\n",
    "Boolean Literals\n",
    "\n",
    "Boolean literals help to denote boolean values. It contains either True or False.\n",
    "\n",
    "x=True"
   ]
  },
  {
   "cell_type": "markdown",
   "id": "8d844937",
   "metadata": {},
   "source": [
    "12 .What is a map function in Python?<br>\n",
    "The map() function in Python has two parameters, function and iterable. The map() function takes a function as an argument and then applies that function to all the elements of an iterable, passed to it as another argument. It returns an object list of results"
   ]
  },
  {
   "cell_type": "markdown",
   "id": "26f5e7b8",
   "metadata": {},
   "source": [
    "13. What are python iterators? <br>\n",
    "These are the certain objects that are easily traversed and iterated when needed."
   ]
  },
  {
   "cell_type": "markdown",
   "id": "2b3ca985",
   "metadata": {},
   "source": [
    "14. Is multiple inheritance supported in Python?<br>\n",
    "Yes, unlike Java, Python provides users with a wide range of support in terms of inheritance and its usage. Multiple inheritance refers to a scenario where a class is instantiated from more than one individual parent class. This provides a lot of functionality and advantages to users."
   ]
  },
  {
   "cell_type": "markdown",
   "id": "2836a534",
   "metadata": {},
   "source": [
    "15. What do file-related modules in Python do? Can you name some file-related modules in Python?<br>\n",
    "Python comes with some file-related modules that have functions to manipulate text files and binary files in a file system. These modules can be used to create text or binary files, update their content, copy, delete, and more.\n",
    "\n",
    "Some file-related modules are os, os.path, and shutil.os. The os.path module has functions to access the file system, while the shutil.os module can be used to copy or delete files."
   ]
  },
  {
   "cell_type": "markdown",
   "id": "7ceb65bf",
   "metadata": {},
   "source": [
    "16. What does *args and **kwargs mean? <br>\n",
    "<ul>\n",
    "<li>.*args: It is used to pass multiple arguments in a function.\n",
    "<li>**kwargs: It is used to pass multiple keyworded arguments in a function in python."
   ]
  },
  {
   "cell_type": "markdown",
   "id": "d89d91f7",
   "metadata": {},
   "source": [
    "17 . How will you reverse a list in Python?<br>\n",
    "The function list.reverse() reverses the objects of a list."
   ]
  },
  {
   "cell_type": "markdown",
   "id": "1869f0b5",
   "metadata": {},
   "source": [
    "18. What is the difference between / and // operator in Python?<br>\n",
    "/: is a division operator and returns the Quotient value.\n",
    "10/3\n",
    "\n",
    "3.33\n",
    "\n",
    "// : is known as floor division operator and used to return only the value of quotient before decimal\n",
    "10//3\n",
    "\n",
    "3"
   ]
  },
  {
   "cell_type": "markdown",
   "id": "3af47c9f",
   "metadata": {},
   "source": [
    "19. How do you access elements of Tuple ?<br>\n",
    "Like in an Array, elements of Tuple can be accessed using index. Index of first element is 0, and index of last element in the tuple is (length of tuple – 1)."
   ]
  },
  {
   "cell_type": "markdown",
   "id": "1577e17c",
   "metadata": {},
   "source": [
    "20. What are the immutable builtin datatypes available ?<br>\n",
    "<ul>\n",
    "<li>Strings\n",
    "<li>Tuples\n",
    "<li>Numbers\n"
   ]
  },
  {
   "cell_type": "code",
   "execution_count": null,
   "id": "3db19631",
   "metadata": {},
   "outputs": [],
   "source": []
  }
 ],
 "metadata": {
  "kernelspec": {
   "display_name": "Python 3",
   "language": "python",
   "name": "python3"
  },
  "language_info": {
   "codemirror_mode": {
    "name": "ipython",
    "version": 3
   },
   "file_extension": ".py",
   "mimetype": "text/x-python",
   "name": "python",
   "nbconvert_exporter": "python",
   "pygments_lexer": "ipython3",
   "version": "3.8.10"
  }
 },
 "nbformat": 4,
 "nbformat_minor": 5
}
